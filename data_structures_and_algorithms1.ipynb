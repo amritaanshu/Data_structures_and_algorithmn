{
  "nbformat": 4,
  "nbformat_minor": 0,
  "metadata": {
    "colab": {
      "provenance": []
    },
    "kernelspec": {
      "name": "python3",
      "display_name": "Python 3"
    },
    "language_info": {
      "name": "python"
    }
  },
  "cells": [
    {
      "cell_type": "code",
      "execution_count": null,
      "metadata": {
        "id": "jCbOOk07Cwgx",
        "colab": {
          "base_uri": "https://localhost:8080/"
        },
        "outputId": "84f17afa-c966-455d-d6c6-d6e52a89b78c"
      },
      "outputs": [
        {
          "output_type": "stream",
          "name": "stdout",
          "text": [
            "Test 1: Got 3, Expected 3\n",
            "Test 2: Got 0, Expected 0\n",
            "Test 3: Got 4, Expected 4\n",
            "Test 4: Got 1, Expected 1\n",
            "Test 5: Got 4, Expected 4\n",
            "Test 6: Got 0, Expected 0\n",
            "Test 7: Got 1, Expected 1\n",
            "Test 8: Got 4, Expected 4\n",
            "\n",
            "All tests passed!\n"
          ]
        }
      ],
      "source": [
        "def count_rotation_linear(nums):\n",
        "    position = 0\n",
        "\n",
        "    while position < len(nums):\n",
        "        if position > 0 and nums[position] < nums[position - 1]:\n",
        "            return position\n",
        "        position += 1\n",
        "\n",
        "    return 0\n",
        "\n",
        "# Test Cases\n",
        "tests = [\n",
        "    ([3, 4, 5, 1, 2], 3),       # Rotated 3 times\n",
        "    ([1, 2, 3, 4, 5], 0),       # Not rotated\n",
        "    ([2, 3, 4, 5, 1], 4),       # Rotated 4 times\n",
        "    ([5, 1, 2, 3, 4], 1),       # Rotated once\n",
        "    ([7, 9, 11, 12, 5], 4),     # Rotated 4 times\n",
        "    ([1], 0),                   # Single element\n",
        "    ([2, 1], 1),                # Rotated once (two elements)\n",
        "    ([4, 5, 6, 7, 0, 1, 2], 4)  # Rotated 4 times\n",
        "]\n",
        "\n",
        "9# Run Tests\n",
        "for i, (nums, expected) in enumerate(tests):\n",
        "    result = count_rotation_linear(nums)\n",
        "    print(f\"Test {i+1}: Got {result}, Expected {expected}\")\n",
        "    assert result == expected, f\"Test {i+1} Failed!\"\n",
        "\n",
        "print(\"\\nAll tests passed!\")\n"
      ]
    },
    {
      "cell_type": "code",
      "source": [
        "def count_rotation_binary(nums):\n",
        "    lo = 0\n",
        "    hi = len(nums) - 1\n",
        "\n",
        "    while lo <= hi:\n",
        "        mid = (lo + hi) // 2\n",
        "        mid_number = nums[mid]\n",
        "\n",
        "        # Check if mid is the rotation point\n",
        "        if mid > 0 and mid_number < nums[mid - 1]:\n",
        "            return mid\n",
        "        elif mid_number < nums[hi]:\n",
        "            hi = mid - 1\n",
        "        else:\n",
        "            lo = mid + 1\n",
        "\n",
        "    return 0\n",
        "\n",
        "# Test Cases\n",
        "tests = [\n",
        "    ([3, 4, 5, 1, 2], 3),\n",
        "    ([1, 2, 3, 4, 5], 0),\n",
        "    ([2, 3, 4, 5, 1], 4),\n",
        "    ([5, 1, 2, 3, 4], 1),\n",
        "    ([7, 9, 11, 12, 5], 4),\n",
        "    ([1], 0),\n",
        "    ([2, 1], 1),\n",
        "    ([4, 5, 6, 7, 0, 1, 2], 4)\n",
        "]\n",
        "\n",
        "# Run Tests\n",
        "for i, (nums, expected) in enumerate(tests):\n",
        "    result = count_rotation_binary(nums)\n",
        "    print(f\"Test {i+1}: Got {result}, Expected {expected}\")\n",
        "    assert result == expected, f\"Test {i+1} Failed!\"\n",
        "\n",
        "print(\"\\nAll tests passed!\")\n"
      ],
      "metadata": {
        "colab": {
          "base_uri": "https://localhost:8080/"
        },
        "id": "eQkoqv-WjPPO",
        "outputId": "28330abd-13cb-403c-cba3-795c99c560d0"
      },
      "execution_count": null,
      "outputs": [
        {
          "output_type": "stream",
          "name": "stdout",
          "text": [
            "Test 1: Got 3, Expected 3\n",
            "Test 2: Got 0, Expected 0\n",
            "Test 3: Got 4, Expected 4\n",
            "Test 4: Got 1, Expected 1\n",
            "Test 5: Got 4, Expected 4\n",
            "Test 6: Got 0, Expected 0\n",
            "Test 7: Got 1, Expected 1\n",
            "Test 8: Got 4, Expected 4\n",
            "\n",
            "All tests passed!\n"
          ]
        }
      ]
    },
    {
      "cell_type": "code",
      "source": [
        "class user:\n",
        "  def __init__(self, username, name, email):\n",
        "    self.username = username\n",
        "    self.name = name\n",
        "    self.email = email\n",
        "\n",
        "  def introduce_yourself(self, guest_name):\n",
        "    print(f\"Hi {guest_name}, my name is {self.name}!\")\n",
        "\n"
      ],
      "metadata": {
        "id": "6EbOInkdlArs"
      },
      "execution_count": null,
      "outputs": []
    },
    {
      "cell_type": "code",
      "source": [
        "user1=user('jane', 'jane doe', 'jane@doe')\n",
        "user1.introduce_yourself('john')"
      ],
      "metadata": {
        "colab": {
          "base_uri": "https://localhost:8080/"
        },
        "id": "dWXrcYJynLZS",
        "outputId": "7b7ffd98-b936-4cae-f744-acc413c964a7"
      },
      "execution_count": null,
      "outputs": [
        {
          "output_type": "stream",
          "name": "stdout",
          "text": [
            "Hi john, my name is jane doe!\n"
          ]
        }
      ]
    },
    {
      "cell_type": "code",
      "source": [
        "class user:\n",
        "  def __init__(self, username, name, email):\n",
        "    self.username = username\n",
        "    self.name = name\n",
        "    self.email = email\n",
        "\n",
        "    def __repr__(self):\n",
        "      return \"User(username='{}', name='{}', email='{}')\".format(self.username, self.name, self.email)\n",
        "\n",
        "    def __str__(self):\n",
        "      return self.__repr__()\n",
        "\n"
      ],
      "metadata": {
        "id": "GcxFQn_5nbz9"
      },
      "execution_count": null,
      "outputs": []
    },
    {
      "cell_type": "code",
      "source": [
        "  user2=user('jane', 'jane doe', 'jane@doe')\n",
        "  user2"
      ],
      "metadata": {
        "colab": {
          "base_uri": "https://localhost:8080/"
        },
        "id": "plR7G1EhnwT-",
        "outputId": "6a37186b-5352-424b-e0a4-385ced6c2342"
      },
      "execution_count": null,
      "outputs": [
        {
          "output_type": "execute_result",
          "data": {
            "text/plain": [
              "<__main__.user at 0x781f4b6e5010>"
            ]
          },
          "metadata": {},
          "execution_count": 11
        }
      ]
    },
    {
      "cell_type": "code",
      "source": [
        "class user:\n",
        "  def __init__(self):\n",
        "    self.users = []\n",
        "\n",
        "  def insert(self, user):\n",
        "    i=0\n",
        "    while i < len(self.users):\n",
        "      if self.users[i].username > user.username:\n",
        "        break\n",
        "      i += 1\n",
        "    self.users.insert(i, user)\n",
        "\n",
        "  def find(self, username):\n",
        "    for user in self.users:\n",
        "      if user.username == username:\n",
        "        return user\n",
        "\n",
        "  def update(self, user):\n",
        "    target = self.find(user.username)\n",
        "    target.name, target.email = user.name, user.email\n",
        "\n",
        "  def list_all(self):\n",
        "    return self.users"
      ],
      "metadata": {
        "id": "YtTR4vSkn8dd"
      },
      "execution_count": null,
      "outputs": []
    },
    {
      "cell_type": "code",
      "source": [
        "# User data class\n",
        "class User:\n",
        "    def __init__(self, username, name, email):\n",
        "        self.username = username\n",
        "        self.name = name\n",
        "        self.email = email\n",
        "\n",
        "    def __repr__(self):\n",
        "        return f\"User(username='{self.username}', name='{self.name}', email='{self.email}')\"\n",
        "\n",
        "# User manager class\n",
        "class UserManager:\n",
        "    def __init__(self):\n",
        "        self.users = []\n",
        "\n",
        "    def insert(self, user):\n",
        "        i = 0\n",
        "        while i < len(self.users):\n",
        "            if self.users[i].username > user.username:\n",
        "                break\n",
        "            i += 1\n",
        "        self.users.insert(i, user)\n",
        "\n",
        "    def find(self, username):\n",
        "        for user in self.users:\n",
        "            if user.username == username:\n",
        "                return user\n",
        "        return None\n",
        "\n",
        "    def update(self, user):\n",
        "        target = self.find(user.username)\n",
        "        if target:\n",
        "            target.name = user.name\n",
        "            target.email = user.email\n",
        "\n",
        "    def list_all(self):\n",
        "        return self.users\n"
      ],
      "metadata": {
        "id": "OozR03SHqDRn"
      },
      "execution_count": null,
      "outputs": []
    },
    {
      "cell_type": "code",
      "source": [
        "# Create user manager\n",
        "manager = UserManager()\n",
        "\n",
        "# Insert users\n",
        "manager.insert(User(\"alice\", \"Alice Smith\", \"alice@example.com\"))\n",
        "manager.insert(User(\"bob\", \"Bob Johnson\", \"bob@example.com\"))\n",
        "manager.insert(User(\"charlie\", \"Charlie Rose\", \"charlie@example.com\"))\n",
        "\n",
        "# List all users (should be sorted by username)\n",
        "print(\"All users:\", manager.list_all())\n",
        "\n",
        "# Find a user\n",
        "user = manager.find(\"bob\")\n",
        "print(\"Found user:\", user)\n",
        "\n",
        "# Update user\n",
        "manager.update(User(\"bob\", \"Bob Marley\", \"bob@newmail.com\"))\n",
        "\n",
        "# Check update\n",
        "print(\"Updated users:\", manager.list_all())\n",
        "\n",
        "# Try to find a non-existing user\n",
        "print(\"Find non-existing user:\", manager.find(\"david\"))\n"
      ],
      "metadata": {
        "colab": {
          "base_uri": "https://localhost:8080/"
        },
        "id": "0VB_ENmap4LO",
        "outputId": "23796789-0ece-4364-8812-f00c0345c940"
      },
      "execution_count": null,
      "outputs": [
        {
          "output_type": "stream",
          "name": "stdout",
          "text": [
            "All users: [User(username='alice', name='Alice Smith', email='alice@example.com'), User(username='bob', name='Bob Johnson', email='bob@example.com'), User(username='charlie', name='Charlie Rose', email='charlie@example.com')]\n",
            "Found user: User(username='bob', name='Bob Johnson', email='bob@example.com')\n",
            "Updated users: [User(username='alice', name='Alice Smith', email='alice@example.com'), User(username='bob', name='Bob Marley', email='bob@newmail.com'), User(username='charlie', name='Charlie Rose', email='charlie@example.com')]\n",
            "Find non-existing user: None\n"
          ]
        }
      ]
    },
    {
      "cell_type": "code",
      "source": [
        "#binary tree\n",
        "class treenode:\n",
        "  def __init__(self, key):\n",
        "    self.key = key\n",
        "    self.left = None\n",
        "    self.right = None"
      ],
      "metadata": {
        "id": "DpBwiOYsp7hG"
      },
      "execution_count": null,
      "outputs": []
    },
    {
      "cell_type": "code",
      "source": [
        "node0= treenode(3)\n",
        "node1= treenode(4)\n",
        "node2= treenode(5)\n",
        "node0.key\n",
        "node0.left=node1\n",
        "node0.right=node2\n",
        "tree = node0\n",
        "print(tree.key)\n",
        "print(tree.left.key)\n",
        "print(tree.right.key)"
      ],
      "metadata": {
        "colab": {
          "base_uri": "https://localhost:8080/"
        },
        "id": "iIanOmsusb26",
        "outputId": "050596c3-db8b-4b69-afd8-8f58151e1dc2"
      },
      "execution_count": null,
      "outputs": [
        {
          "output_type": "stream",
          "name": "stdout",
          "text": [
            "3\n",
            "4\n",
            "5\n"
          ]
        }
      ]
    },
    {
      "cell_type": "code",
      "source": [
        "tree_tuple = ((1,3,None), 2, ((None, 3, 4), 5, (6, 7, 8)))"
      ],
      "metadata": {
        "id": "x3VEIABBsoQc"
      },
      "execution_count": null,
      "outputs": []
    },
    {
      "cell_type": "code",
      "source": [
        "def parse_tuple(data):\n",
        "  if isinstance(data, tuple) and len(data) == 3:\n",
        "    node = treenode(data[1])\n",
        "    node.left = parse_tuple(data[0])\n",
        "    node.right = parse_tuple(data[2])\n",
        "  elif data is None:\n",
        "    node = None\n",
        "  else:\n",
        "    node = treenode(data)\n",
        "  return node"
      ],
      "metadata": {
        "id": "SBklE6datctQ"
      },
      "execution_count": null,
      "outputs": []
    },
    {
      "cell_type": "code",
      "source": [
        "# Define the tuple\n",
        "tree_data = ((1, 2, (3, 4, 5)))\n",
        "\n",
        "# Parse it into a tree\n",
        "tree = parse_tuple(tree_data)\n",
        "\n",
        "# Inorder Traversal to verify structure\n",
        "def inorder(node):\n",
        "    if node is None:\n",
        "        return []\n",
        "    return inorder(node.left) + [node.key] + inorder(node.right)\n",
        "\n",
        "print(\"Inorder Traversal:\", inorder(tree))\n"
      ],
      "metadata": {
        "colab": {
          "base_uri": "https://localhost:8080/"
        },
        "id": "iA7r5UP3tzqk",
        "outputId": "179434cc-5ed2-4d2f-f448-e6ac44f03d29"
      },
      "execution_count": null,
      "outputs": [
        {
          "output_type": "stream",
          "name": "stdout",
          "text": [
            "Inorder Traversal: [1, 2, 3, 4, 5]\n"
          ]
        }
      ]
    },
    {
      "cell_type": "code",
      "source": [
        "def postorder(node):\n",
        "    if node is None:\n",
        "        return []\n",
        "    return postorder(node.left) + postorder(node.right) + [node.key]\n"
      ],
      "metadata": {
        "id": "oBj2_F9euOYc"
      },
      "execution_count": null,
      "outputs": []
    },
    {
      "cell_type": "code",
      "source": [
        "def tree_height(node):\n",
        "  if node is None:\n",
        "    return 0\n",
        "  return 1 + max(tree_height(node.left), tree_height(node.right))"
      ],
      "metadata": {
        "id": "5GBHZ-9AveFj"
      },
      "execution_count": null,
      "outputs": []
    },
    {
      "cell_type": "code",
      "source": [
        "tree_height(tree)"
      ],
      "metadata": {
        "colab": {
          "base_uri": "https://localhost:8080/"
        },
        "id": "hiqhCN3Uvv9g",
        "outputId": "3e2165f3-0e1a-4e37-f5ae-f03b7d876a71"
      },
      "execution_count": null,
      "outputs": [
        {
          "output_type": "execute_result",
          "data": {
            "text/plain": [
              "3"
            ]
          },
          "metadata": {},
          "execution_count": 27
        }
      ]
    },
    {
      "cell_type": "code",
      "source": [
        "def tree_size(node):\n",
        "  if node is None:\n",
        "    return 0\n",
        "  return 1 + tree_size(node.left) + tree_size(node.right)"
      ],
      "metadata": {
        "id": "tlAfBf25v05D"
      },
      "execution_count": null,
      "outputs": []
    },
    {
      "cell_type": "code",
      "source": [
        "tree_size(tree)"
      ],
      "metadata": {
        "colab": {
          "base_uri": "https://localhost:8080/"
        },
        "id": "24mfGpjGv4WS",
        "outputId": "34092c5b-7371-4184-8a58-483b3281782b"
      },
      "execution_count": null,
      "outputs": [
        {
          "output_type": "execute_result",
          "data": {
            "text/plain": [
              "5"
            ]
          },
          "metadata": {},
          "execution_count": 29
        }
      ]
    },
    {
      "cell_type": "code",
      "source": [
        "class treenode():\n",
        "    def __init__(self, key):\n",
        "        self.key = key\n",
        "        self.left = None\n",
        "        self.right = None\n",
        "\n",
        "    def height(self):\n",
        "        if self.left is None and self.right is None:\n",
        "            return 1\n",
        "        left_height = self.left.height() if self.left else 0\n",
        "        right_height = self.right.height() if self.right else 0\n",
        "        return 1 + max(left_height, right_height)\n",
        "\n",
        "    def size(self):\n",
        "        left_size = self.left.size() if self.left else 0\n",
        "        right_size = self.right.size() if self.right else 0\n",
        "        return 1 + left_size + right_size\n",
        "\n",
        "    def transversal_inorder(self):\n",
        "        result = []\n",
        "        if self.left:\n",
        "            result += self.left.transversal_inorder()\n",
        "        result.append(self.key)\n",
        "        if self.right:\n",
        "            result += self.right.transversal_inorder()\n",
        "        return result\n",
        "\n",
        "    def display_keys(self, space='\\t', level=0):\n",
        "        if self.right:\n",
        "            self.right.display_keys(space, level+1)\n",
        "        print(space*level + str(self.key))\n",
        "        if self.left:\n",
        "            self.left.display_keys(space, level+1)\n",
        "\n",
        "    def transversal_preorder(self):\n",
        "        result = [self.key]\n",
        "        if self.left:\n",
        "            result += self.left.transversal_preorder()\n",
        "        if self.right:\n",
        "            result += self.right.transversal_preorder()\n",
        "        return result\n",
        "\n",
        "    def to_tuple(self):\n",
        "        if self.left is None and self.right is None:\n",
        "            return self.key\n",
        "        left = self.left.to_tuple() if self.left else None\n",
        "        right = self.right.to_tuple() if self.right else None\n",
        "        return (left, self.key, right)\n",
        "\n",
        "    def __str__(self):\n",
        "        return \"BinaryTree <{}>\".format(self.to_tuple())\n",
        "\n",
        "    def __repr__(self):\n",
        "        return \"BinaryTree <{}>\".format(self.to_tuple())\n",
        "\n",
        "    @staticmethod\n",
        "    def parse_tuple(data):\n",
        "        if data is None:\n",
        "            return None\n",
        "        if isinstance(data, tuple) and len(data) == 3:\n",
        "            node = treenode(data[1])\n",
        "            node.left = treenode.parse_tuple(data[0])\n",
        "            node.right = treenode.parse_tuple(data[2])\n",
        "            return node\n",
        "        return treenode(data)\n"
      ],
      "metadata": {
        "id": "PMfl7oWnv6HQ"
      },
      "execution_count": null,
      "outputs": []
    },
    {
      "cell_type": "code",
      "source": [
        "# Sample tree: ((1, 2, None), 3, (4, 5, 6))\n",
        "tree_data = ((1, 2, None), 3, (4, 5, 6))\n",
        "\n",
        "# Parse to tree\n",
        "tree = treenode.parse_tuple(tree_data)\n",
        "\n",
        "# Display tree\n",
        "print(\"Tree Structure:\")\n",
        "tree.display_keys()\n",
        "\n",
        "# Print traversals\n",
        "print(\"Inorder:\", tree.transversal_inorder())\n",
        "print(\"Preorder:\", tree.transversal_preorder())\n",
        "print(\"Size:\", tree.size())\n",
        "print(\"Height:\", tree.height())\n",
        "print(\"Tree as tuple:\", tree.to_tuple())\n"
      ],
      "metadata": {
        "colab": {
          "base_uri": "https://localhost:8080/"
        },
        "id": "4yqzGFfexc1X",
        "outputId": "c43809cf-bbca-4574-b0e4-2ec8dc64b3f9"
      },
      "execution_count": null,
      "outputs": [
        {
          "output_type": "stream",
          "name": "stdout",
          "text": [
            "Tree Structure:\n",
            "\t\t6\n",
            "\t5\n",
            "\t\t4\n",
            "3\n",
            "\t2\n",
            "\t\t1\n",
            "Inorder: [1, 2, 3, 4, 5, 6]\n",
            "Preorder: [3, 2, 1, 5, 4, 6]\n",
            "Size: 6\n",
            "Height: 3\n",
            "Tree as tuple: ((1, 2, None), 3, (4, 5, 6))\n"
          ]
        }
      ]
    },
    {
      "cell_type": "code",
      "source": [
        "def remove_none(nums):\n",
        "    return [x for x in nums if x is not None]\n",
        "\n",
        "def is_bst(node):\n",
        "    if node is None:\n",
        "        return True, None, None\n",
        "\n",
        "    is_bst_l, min_l, max_l = is_bst(node.left)\n",
        "    is_bst_r, min_r, max_r = is_bst(node.right)\n",
        "\n",
        "    is_bst_node = (is_bst_l and is_bst_r and\n",
        "                   (max_l is None or node.key > max_l) and\n",
        "                   (min_r is None or node.key < min_r))\n",
        "\n",
        "    min_key = min(remove_none([min_l, node.key, min_r]))\n",
        "    max_key = max(remove_none([max_l, node.key, max_r]))\n",
        "\n",
        "    if is_bst_node:\n",
        "        return True, min_key, max_key\n",
        "    else:\n",
        "        return False, None, None\n"
      ],
      "metadata": {
        "id": "rWXuMlpWxzn0"
      },
      "execution_count": null,
      "outputs": []
    },
    {
      "cell_type": "code",
      "source": [
        "# Using previous treenode class\n",
        "tree1 = treenode.parse_tuple(((1, 2, None), 3, (4, 5, 6)))  # This is NOT a BST\n",
        "\n",
        "tree2 = treenode.parse_tuple(((1, 2, None), 3, (None, 4, 5)))  # This IS a BST\n",
        "\n",
        "print(\"Tree 1 is BST:\", is_bst(tree1)[0])  # Output: False\n",
        "print(\"Tree 2 is BST:\", is_bst(tree2)[0])  # Output: True\n"
      ],
      "metadata": {
        "colab": {
          "base_uri": "https://localhost:8080/"
        },
        "id": "zcdIaxZLzVEW",
        "outputId": "e8a79e8e-d1a0-4016-fec5-26a995f89714"
      },
      "execution_count": null,
      "outputs": [
        {
          "output_type": "stream",
          "name": "stdout",
          "text": [
            "Tree 1 is BST: True\n",
            "Tree 2 is BST: True\n"
          ]
        }
      ]
    },
    {
      "cell_type": "code",
      "source": [
        "class BSTNode:\n",
        "    def __init__(self, key, value):\n",
        "        self.key = key\n",
        "        self.value = value\n",
        "        self.left = None\n",
        "        self.right = None\n",
        "        self.parent = None\n",
        "\n",
        "    def __repr__(self):\n",
        "        return f\"({self.key}: {self.value})\"\n",
        "def insert(node, key, value):\n",
        "  if node is None:\n",
        "    node = BSTNode(key, value)\n",
        "  elif key < node.key:\n",
        "    node.left = insert(node.left, key, value)\n",
        "    node.left.parent = node\n",
        "  elif key>node.key:\n",
        "    node.right= insert(node.right, key, value)\n",
        "    node.right.parent = node\n",
        "  return node"
      ],
      "metadata": {
        "id": "xfE6yUaKzxdX"
      },
      "execution_count": null,
      "outputs": []
    },
    {
      "cell_type": "code",
      "source": [
        "# Create a tree and insert values with different names as keys\n",
        "root = None\n",
        "root = insert(root, \"bob\", \"Bob Smith\")\n",
        "root = insert(root, \"alice\", \"Alice Johnson\")\n",
        "root = insert(root, \"charlie\", \"Charlie Brown\")\n",
        "root = insert(root, \"david\", \"David Wright\")\n"
      ],
      "metadata": {
        "id": "4j18bcJc1aBT"
      },
      "execution_count": null,
      "outputs": []
    },
    {
      "cell_type": "code",
      "source": [
        "def inorder(node):\n",
        "    if node is None:\n",
        "        return []\n",
        "    return inorder(node.left) + [(node.key, node.value)] + inorder(node.right)\n",
        "\n",
        "print(\"Inorder Traversal of BST:\")\n",
        "print(inorder(root))\n"
      ],
      "metadata": {
        "colab": {
          "base_uri": "https://localhost:8080/"
        },
        "id": "uMxZNgyo1r5W",
        "outputId": "28e48365-e0dd-4251-dbed-807948742302"
      },
      "execution_count": null,
      "outputs": [
        {
          "output_type": "stream",
          "name": "stdout",
          "text": [
            "Inorder Traversal of BST:\n",
            "[('alice', 'Alice Johnson'), ('bob', 'Bob Smith'), ('charlie', 'Charlie Brown'), ('david', 'David Wright')]\n"
          ]
        }
      ]
    },
    {
      "cell_type": "code",
      "source": [
        "def find(node, key):\n",
        "  if node is None:\n",
        "    return None\n",
        "  if key == node.key:\n",
        "    return node\n",
        "  if key < node.key:\n",
        "    return find(node.left, key)\n",
        "  if key > node.key:\n",
        "    return find(node.right, key)"
      ],
      "metadata": {
        "id": "ElOOTF5u2ENS"
      },
      "execution_count": null,
      "outputs": []
    },
    {
      "cell_type": "code",
      "source": [
        "root = find(root, \"alice\")\n",
        "print(root)"
      ],
      "metadata": {
        "colab": {
          "base_uri": "https://localhost:8080/"
        },
        "id": "KxLEHZnH2r1b",
        "outputId": "5bba7b59-8b93-4ee6-e731-245f99091036"
      },
      "execution_count": null,
      "outputs": [
        {
          "output_type": "stream",
          "name": "stdout",
          "text": [
            "(alice: Alice Johnson)\n"
          ]
        }
      ]
    },
    {
      "cell_type": "code",
      "source": [
        "def update(node, key, value):\n",
        "  target = find(node, key)\n",
        "  if target is not None:\n",
        "    target.value = value"
      ],
      "metadata": {
        "id": "eGBOPKJ32xMb"
      },
      "execution_count": null,
      "outputs": []
    },
    {
      "cell_type": "code",
      "source": [
        "def list_all(node):\n",
        "  if node is None:\n",
        "    return []\n",
        "  return list_all(node.left) + [(node.key, node.value)] + list_all(node.right)"
      ],
      "metadata": {
        "id": "zUS8m8gU29y7"
      },
      "execution_count": null,
      "outputs": []
    },
    {
      "cell_type": "code",
      "source": [
        "list_all(root)"
      ],
      "metadata": {
        "colab": {
          "base_uri": "https://localhost:8080/"
        },
        "id": "3-412-Km3YWt",
        "outputId": "3ef2a0a5-e254-4a4a-c4c3-65e2bbadb934"
      },
      "execution_count": null,
      "outputs": [
        {
          "output_type": "execute_result",
          "data": {
            "text/plain": [
              "[('alice', 'Alice Johnson')]"
            ]
          },
          "metadata": {},
          "execution_count": 47
        }
      ]
    },
    {
      "cell_type": "code",
      "source": [
        "def is_balanced(node):\n",
        "  if node is None:\n",
        "    return True, 0\n",
        "\n",
        "  balanced_l, height_l = is_balanced(node.left)\n",
        "  balanced_r, height_r = is_balanced(node.right)\n",
        "  balanced = balanced_l and balanced_r and abs(height_l - height_r) <= 1\n",
        "  height = 1 + max(height_l, height_r)\n",
        "  return balanced, height"
      ],
      "metadata": {
        "id": "4HM_iPLc3b2x"
      },
      "execution_count": null,
      "outputs": []
    },
    {
      "cell_type": "code",
      "source": [
        "class BSTNode:\n",
        "    def __init__(self, key, value):\n",
        "        self.key = key\n",
        "        self.value = value\n",
        "        self.left = None\n",
        "        self.right = None\n",
        "        self.parent = None\n",
        "\n",
        "    def __repr__(self):\n",
        "        return f\"({self.key}: {self.value})\"\n",
        "#balanced binary search tree\n",
        "def make_balanced_bat(data, lo=0, hi=None, parent=None):\n",
        "  if hi is None:\n",
        "    hi = len(data) - 1\n",
        "  if lo > hi:\n",
        "    return None\n",
        "  mid = (lo + hi) // 2\n",
        "  key, value = data[mid]\n",
        "  root = BSTNode(key, value)\n",
        "  root.parent = parent\n",
        "  root.left = make_balanced_bat(data, lo, mid-1, root)\n",
        "  root.right = make_balanced_bat(data, mid+1, hi, root)\n",
        "  return root"
      ],
      "metadata": {
        "id": "kVQ88UouGiqh"
      },
      "execution_count": null,
      "outputs": []
    },
    {
      "cell_type": "code",
      "source": [
        "# Sorted list of key-value pairs\n",
        "data = [\n",
        "    (1, \"one\"),\n",
        "    (2, \"two\"),\n",
        "    (3, \"three\"),\n",
        "    (4, \"four\"),\n",
        "    (5, \"five\"),\n",
        "    (6, \"six\"),\n",
        "    (7, \"seven\")\n",
        "]\n",
        "\n",
        "# Create balanced BST\n",
        "root = make_balanced_bat(data)\n",
        "\n",
        "# Inorder traversal to check\n",
        "def inorder(node):\n",
        "    if node is None:\n",
        "        return []\n",
        "    return inorder(node.left) + [(node.key, node.value)] + inorder(node.right)\n",
        "\n",
        "print(\"Inorder Traversal (should be sorted):\")\n",
        "print(inorder(root))\n"
      ],
      "metadata": {
        "colab": {
          "base_uri": "https://localhost:8080/"
        },
        "id": "yJuw9rEhHnHJ",
        "outputId": "3f169daa-b499-4e45-eab2-b3bc5ce864e9"
      },
      "execution_count": null,
      "outputs": [
        {
          "output_type": "stream",
          "name": "stdout",
          "text": [
            "Inorder Traversal (should be sorted):\n",
            "[(1, 'one'), (2, 'two'), (3, 'three'), (4, 'four'), (5, 'five'), (6, 'six'), (7, 'seven')]\n"
          ]
        }
      ]
    },
    {
      "cell_type": "code",
      "source": [
        "%%time\n",
        "for i in range(26):\n",
        "  j = i*i"
      ],
      "metadata": {
        "colab": {
          "base_uri": "https://localhost:8080/"
        },
        "id": "6BqU4_yJHoGP",
        "outputId": "c79ed1ef-0306-423f-af08-2d60ccfef068"
      },
      "execution_count": null,
      "outputs": [
        {
          "output_type": "stream",
          "name": "stdout",
          "text": [
            "CPU times: user 14 µs, sys: 2 µs, total: 16 µs\n",
            "Wall time: 20 µs\n"
          ]
        }
      ]
    },
    {
      "cell_type": "code",
      "source": [
        "%%time\n",
        "for i in range(100000000):\n",
        "  j = i*i"
      ],
      "metadata": {
        "colab": {
          "base_uri": "https://localhost:8080/"
        },
        "id": "ChI-iVrsI2xG",
        "outputId": "462f1bdd-2389-4daa-e427-942c64c49434"
      },
      "execution_count": null,
      "outputs": [
        {
          "output_type": "stream",
          "name": "stdout",
          "text": [
            "CPU times: user 13.6 s, sys: 7.76 ms, total: 13.6 s\n",
            "Wall time: 13.9 s\n"
          ]
        }
      ]
    },
    {
      "cell_type": "code",
      "source": [
        "class BSTNode:\n",
        "    def __init__(self, key, value):\n",
        "        self.key = key\n",
        "        self.value = value\n",
        "        self.left = None\n",
        "        self.right = None\n",
        "        self.parent = None\n",
        "\n",
        "    def __repr__(self):\n",
        "        return f\"({self.key}: {self.value})\"\n",
        "\n",
        "def find(node, key):\n",
        "    while node:\n",
        "        if key == node.key:\n",
        "            return node\n",
        "        elif key < node.key:\n",
        "            node = node.left\n",
        "        else:\n",
        "            node = node.right\n",
        "    return None\n",
        "\n",
        "def insert(node, key, value):\n",
        "    if node is None:\n",
        "        return BSTNode(key, value)\n",
        "    elif key < node.key:\n",
        "        node.left = insert(node.left, key, value)\n",
        "        node.left.parent = node\n",
        "    elif key > node.key:\n",
        "        node.right = insert(node.right, key, value)\n",
        "        node.right.parent = node\n",
        "    return node\n",
        "\n",
        "def update(node, key, value):\n",
        "    target = find(node, key)\n",
        "    if target:\n",
        "        target.value = value\n",
        "\n",
        "def list_all(node):\n",
        "    if node is None:\n",
        "        return []\n",
        "    return list_all(node.left) + [(node.key, node.value)] + list_all(node.right)\n",
        "\n",
        "def tree_size(node):\n",
        "    if node is None:\n",
        "        return 0\n",
        "    return 1 + tree_size(node.left) + tree_size(node.right)\n",
        "\n",
        "def display_keys(node, space='\\t', level=0):\n",
        "    if node is None:\n",
        "        print(space * level + '∅')\n",
        "        return\n",
        "    display_keys(node.right, space, level + 1)\n",
        "    print(space * level + str((node.key, node.value)))\n",
        "    display_keys(node.left, space, level + 1)\n",
        "\n",
        "def balance_bst(node):\n",
        "    items = list_all(node)\n",
        "    return make_balanced_bst(items)\n",
        "\n",
        "def make_balanced_bst(data, lo=0, hi=None, parent=None):\n",
        "    if hi is None:\n",
        "        hi = len(data) - 1\n",
        "    if lo > hi:\n",
        "        return None\n",
        "\n",
        "    mid = (lo + hi) // 2\n",
        "    key, value = data[mid]\n",
        "    root = BSTNode(key, value)\n",
        "    root.parent = parent\n",
        "\n",
        "    root.left = make_balanced_bst(data, lo, mid-1, root)\n",
        "    root.right = make_balanced_bst(data, mid+1, hi, root)\n",
        "\n",
        "    return root\n",
        "\n",
        "class treemap():\n",
        "    def __init__(self):\n",
        "        self.root = None\n",
        "\n",
        "    def __setitem__(self, key, value):\n",
        "        node = find(self.root, key)\n",
        "        if not node:\n",
        "            self.root = insert(self.root, key, value)\n",
        "            self.root = balance_bst(self.root)\n",
        "        else:\n",
        "            update(self.root, key, value)\n",
        "\n",
        "    def __getitem__(self, key):\n",
        "        node = find(self.root, key)\n",
        "        return node.value if node else None\n",
        "\n",
        "    def __iter__(self):\n",
        "        return (x for x in list_all(self.root))\n",
        "\n",
        "    def __len__(self):\n",
        "        return tree_size(self.root)\n",
        "\n",
        "    def display(self):\n",
        "        return display_keys(self.root)\n"
      ],
      "metadata": {
        "id": "2uC6a0FpI_ON"
      },
      "execution_count": null,
      "outputs": []
    },
    {
      "cell_type": "code",
      "source": [
        "# Create treemap and insert values\n",
        "tm = treemap()\n",
        "tm[\"d\"] = \"dog\"\n",
        "tm[\"b\"] = \"bat\"\n",
        "tm[\"a\"] = \"apple\"\n",
        "tm[\"c\"] = \"cat\"\n",
        "tm[\"e\"] = \"elephant\"\n",
        "\n",
        "# Display tree\n",
        "print(\"Tree structure:\")\n",
        "tm.display()\n",
        "\n",
        "# Test get\n",
        "print(\"\\nGet 'c':\", tm[\"c\"])  # Should print 'cat'\n",
        "print(\"Get 'x':\", tm[\"x\"])    # Should print None\n",
        "\n",
        "# Test iteration\n",
        "print(\"\\nAll key-value pairs (in order):\")\n",
        "for item in tm:\n",
        "    print(item)\n",
        "\n",
        "# Test length\n",
        "print(\"\\nTree size:\", len(tm))\n"
      ],
      "metadata": {
        "colab": {
          "base_uri": "https://localhost:8080/"
        },
        "id": "VkXIrmWCJyAM",
        "outputId": "124df055-9d76-431e-c4ad-baff2e397508"
      },
      "execution_count": null,
      "outputs": [
        {
          "output_type": "stream",
          "name": "stdout",
          "text": [
            "Tree structure:\n",
            "\t\t\t∅\n",
            "\t\t('e', 'elephant')\n",
            "\t\t\t∅\n",
            "\t('d', 'dog')\n",
            "\t\t∅\n",
            "('c', 'cat')\n",
            "\t\t\t∅\n",
            "\t\t('b', 'bat')\n",
            "\t\t\t∅\n",
            "\t('a', 'apple')\n",
            "\t\t∅\n",
            "\n",
            "Get 'c': cat\n",
            "Get 'x': None\n",
            "\n",
            "All key-value pairs (in order):\n",
            "('a', 'apple')\n",
            "('b', 'bat')\n",
            "('c', 'cat')\n",
            "('d', 'dog')\n",
            "('e', 'elephant')\n",
            "\n",
            "Tree size: 5\n"
          ]
        }
      ]
    },
    {
      "cell_type": "code",
      "source": [],
      "metadata": {
        "id": "O826kIxsKGvU"
      },
      "execution_count": null,
      "outputs": []
    }
  ]
}